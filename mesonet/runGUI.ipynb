{
 "cells": [
  {
   "cell_type": "code",
   "execution_count": null,
   "id": "initial_id",
   "metadata": {
    "collapsed": true
   },
   "outputs": [],
   "source": [
    "# gpu is available\n",
    "import tensorflow as tf\n",
    "tensorflow_version = tf.__version__\n",
    "gpu_available = tf.test.is_gpu_available()\n",
    "print('tensorflow version:',tensorflow_version, '\\tGPU available:', gpu_available)\n",
    "a = tf.constant([1.0, 2.0], name='a')\n",
    "b = tf.constant([1.0, 2.0], name='b')\n",
    "result = tf.add(a,b, name='add')\n",
    "print(result)\n",
    "import os\n",
    "from tensorflow.python.client import _pywrap_device_lib\n",
    "os.environ[\"TF_CPP_MIN_LOG_LEVEL\"] = \"99\"\n",
    "if __name__ == \"__main__\":\n",
    "    print(_pywrap_device_lib.list_local_devices())"
   ]
  },
  {
   "metadata": {},
   "cell_type": "code",
   "outputs": [],
   "execution_count": null,
   "source": [
    "# run test GUI\n",
    "from mesonet import gui_start\n",
    "gui_start()"
   ],
   "id": "fa34a2e0c1f672ea"
  },
  {
   "metadata": {},
   "cell_type": "code",
   "outputs": [],
   "execution_count": null,
   "source": [
    "# run train GUI\n",
    "from mesonet import gui_start\n",
    "gui_start('train')"
   ],
   "id": "40b5679f0bde8e23"
  }
 ],
 "metadata": {
  "kernelspec": {
   "display_name": "Python 3",
   "language": "python",
   "name": "python3"
  },
  "language_info": {
   "codemirror_mode": {
    "name": "ipython",
    "version": 2
   },
   "file_extension": ".py",
   "mimetype": "text/x-python",
   "name": "python",
   "nbconvert_exporter": "python",
   "pygments_lexer": "ipython2",
   "version": "2.7.6"
  }
 },
 "nbformat": 4,
 "nbformat_minor": 5
}
